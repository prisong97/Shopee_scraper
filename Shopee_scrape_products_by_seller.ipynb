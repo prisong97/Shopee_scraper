{
 "cells": [
  {
   "cell_type": "code",
   "execution_count": 2,
   "metadata": {
    "jupyter": {
     "outputs_hidden": false
    }
   },
   "outputs": [
    {
     "name": "stderr",
     "output_type": "stream",
     "text": [
      "C:\\Users\\dexter\\Anaconda3\\envs\\Shopee_scraper\\lib\\site-packages\\ipykernel_launcher.py:22: DeprecationWarning: use options instead of chrome_options\n"
     ]
    }
   ],
   "source": [
    "#imports \n",
    "\n",
    "from selenium import webdriver\n",
    "from selenium.webdriver import Chrome\n",
    "from selenium.webdriver.chrome.options import Options\n",
    "from selenium.webdriver.common.by import By \n",
    "from selenium.webdriver.support.ui import WebDriverWait \n",
    "from selenium.webdriver.support import expected_conditions as EC \n",
    "from selenium.common.exceptions import TimeoutException\n",
    "from selenium.common.exceptions import NoSuchElementException\n",
    "from selenium.webdriver.common.keys import Keys\n",
    "\n",
    "from random import randint\n",
    "import pandas as pd\n",
    "import time\n",
    "import re\n",
    "\n",
    "options = Options()\n",
    "options.add_argument(\"start-maximized\")\n",
    "options.add_argument(\"disable-infobars\")\n",
    "options.add_argument(\"--disable-extensions\")\n",
    "driver = webdriver.Chrome(chrome_options = options)\n",
    "driver.set_page_load_timeout(25)"
   ]
  },
  {
   "cell_type": "code",
   "execution_count": 3,
   "metadata": {
    "jupyter": {
     "outputs_hidden": false
    }
   },
   "outputs": [],
   "source": [
    "class Shopee_scraper:\n",
    "    \n",
    "    def seller_products(self, seller_name):\n",
    "        seller_url = '{}{}'.format('https://shopee.sg/', seller_name)\n",
    "        delay = 20\n",
    "        next_page = 0\n",
    "        counter = 0\n",
    "        product_links = []\n",
    "        product_descriptions = []\n",
    "        product_prices = []\n",
    "        product_discounts = []\n",
    "        product_sold_count = []\n",
    "        while next_page == 0:\n",
    "            page_url = '{}{}{}{}'.format(seller_url, '?page=', counter, '&sortBy=pop')\n",
    "            driver.get(page_url)\n",
    "            try:\n",
    "                WebDriverWait(driver, delay).until(EC.element_to_be_clickable((By.CSS_SELECTOR, 'div.shop-all-product-view')))\n",
    "                for i in range(5):\n",
    "                    driver.execute_script(\"window.scrollTo(0, window.scrollY + 1000)\")\n",
    "                    time.sleep(1.5)\n",
    "                search_items = driver.find_elements_by_css_selector('div.shop-search-result-view__item.col-xs-2-4')\n",
    "                if len(search_items) == 0:\n",
    "                    next_page = 1\n",
    "                else:\n",
    "                    for search_item in search_items:\n",
    "                        product_link = search_item.find_element_by_css_selector('a').get_attribute('href')\n",
    "                        product_description = (search_item.find_element_by_css_selector('div._1JAmkB').get_attribute(\"textContent\")).encode('utf-8').strip() \n",
    "                        product_price = (search_item.find_element_by_class_name('_1w9jLI._37ge-4._2XtIUk').get_attribute(\"textContent\")).encode('utf-8').strip()\n",
    "                        try:\n",
    "                            product_discount = (search_item.find_element_by_css_selector('div.shopee-badge.shopee-badge--fixed-width.shopee-badge--promotion').get_attribute(\"textContent\")).encode('utf-8').strip()\n",
    "                        except:\n",
    "                            product_discount = \"\"\n",
    "                        try:\n",
    "                            product_sold = (search_item.find_element_by_css_selector('div._18SLBt').get_attribute(\"textContent\").encode('utf-8').strip())\n",
    "                        except:\n",
    "                            product_sold = \"\"\n",
    "                        product_links.append(product_link)\n",
    "                        product_descriptions.append(product_description)\n",
    "                        product_prices.append(product_price)\n",
    "                        product_discounts.append(product_discount)\n",
    "                        product_sold_count.append(product_sold)\n",
    "                counter += 1\n",
    "                time.sleep(randint(2, 7))\n",
    "            except TimeoutException:\n",
    "                next_page = 1\n",
    "            continue\n",
    "        data = pd.DataFrame({\"Product Links\": product_links, \"Product Descriptions\": product_descriptions, \"Product Prices (Discounted -where applicable)\": product_prices, \"Product Discounts\": product_discounts, \"Product Sold Count\": product_sold_count})\n",
    "        export_csv = data.to_csv(seller_name, index = None, header = True)\n",
    "        return data    \n",
    "                        \n",
    "       \n",
    "\n",
    "    \n",
    "        \n",
    "        "
   ]
  },
  {
   "cell_type": "code",
   "execution_count": 4,
   "metadata": {
    "jupyter": {
     "outputs_hidden": false
    }
   },
   "outputs": [],
   "source": [
    "test = Shopee_scraper()\n",
    "#test.seller_products(\"weartonext\")\n",
    "\n",
    "\n"
   ]
  }
 ],
 "metadata": {
  "kernelspec": {
   "display_name": "Python [conda env:Shopee_scraper]",
   "language": "python",
   "name": "conda-env-Shopee_scraper-py"
  },
  "language_info": {
   "codemirror_mode": {
    "name": "ipython",
    "version": 2
   },
   "file_extension": ".py",
   "mimetype": "text/x-python",
   "name": "python",
   "nbconvert_exporter": "python",
   "pygments_lexer": "ipython2",
   "version": "2.7.16"
  }
 },
 "nbformat": 4,
 "nbformat_minor": 4
}
